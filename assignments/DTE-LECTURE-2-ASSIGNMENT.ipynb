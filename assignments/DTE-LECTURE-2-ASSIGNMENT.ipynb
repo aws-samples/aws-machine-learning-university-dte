{
 "cells": [
  {
   "cell_type": "markdown",
   "metadata": {},
   "source": [
    "![MLU Logo](../data/MLU_Logo.png)"
   ]
  },
  {
   "cell_type": "markdown",
   "metadata": {},
   "source": [
    "# Assignment 2\n",
    "\n",
    "## Related Reading\n",
    "If you want to read more about these concepts, I'll be putting links here for you to find verious resources.\n",
    "* [Understanding Random Forests](https://arxiv.org/pdf/1407.7502) Sections 4.1 and 4.2. *Bias-Variance Decomposition, and Ensembling Methods Based on Randomness*\n",
    "* A deeper dive into [Unified approaches to the Bias-Variance Decomposition](https://homes.cs.washington.edu/~pedrod/papers/mlc00a.pdf)\n",
    "* A nice visualization of the [Bias-Variance decomposition for k-nearest neighbors](http://scott.fortmann-roe.com/docs/BiasVariance.html) (although the example they picked is a bit of a bizarre choice).\n",
    "\n",
    "## This Assignment's Goals\n",
    "Now that we know how decision trees work, we want to start thinking about ensembling, and how to bring many models together.  In particular, we'll take a look at ExtraTrees, and try to understand explicitly how the bias variance trade-off works."
   ]
  },
  {
   "cell_type": "code",
   "execution_count": null,
   "metadata": {},
   "outputs": [],
   "source": [
    "! pip install -q -r ../requirements.txt"
   ]
  },
  {
   "cell_type": "code",
   "execution_count": 1,
   "metadata": {},
   "outputs": [],
   "source": [
    "import warnings\n",
    "warnings.simplefilter('ignore', category=FutureWarning)"
   ]
  },
  {
   "cell_type": "markdown",
   "metadata": {},
   "source": [
    "## Measuring Bias and Variance\n",
    "\n",
    "We're going to begin by explicitly measuring bias and variance when working with decision trees.  In order to do this, we'll want to be able to produce an infinite quantity of data.  We're going to keep everything simple, and work with an easy synthetic problem.  I'll put in the code here to generate the data, and plot some examples."
   ]
  },
  {
   "cell_type": "code",
   "execution_count": 2,
   "metadata": {},
   "outputs": [
    {
     "data": {
      "text/plain": [
       "<matplotlib.collections.PathCollection at 0x7ff849cf5cf8>"
      ]
     },
     "execution_count": 2,
     "metadata": {},
     "output_type": "execute_result"
    },
    {
     "data": {
      "image/png": "[encoded data removed]",
      "text/plain": [
       "<Figure size 432x288 with 1 Axes>"
      ]
     },
     "metadata": {
      "needs_background": "light"
     },
     "output_type": "display_data"
    }
   ],
   "source": [
    "### Generating Random Data ###\n",
    "import numpy as np\n",
    "np.random.seed(1701)\n",
    "\n",
    "def random_data(N) :\n",
    "    X = np.random.randn(N)/2\n",
    "    y = X**2+X**3 + 0.5*np.random.randn(N)\n",
    "    return X,y\n",
    "    \n",
    "## Plot It ###\n",
    "%matplotlib inline\n",
    "import matplotlib.pyplot as plt\n",
    "X,y = random_data(1000)\n",
    "plt.scatter(X,y,alpha=0.2)"
   ]
  },
  {
   "cell_type": "markdown",
   "metadata": {},
   "source": [
    "Note that in this case, we also know what the true value should be: it is the function\n",
    "$$\n",
    "f(x) = x^2 + x^3\n",
    "$$\n",
    "where the values have been corrupted with a gaussian noise of variance $0.25$."
   ]
  },
  {
   "cell_type": "markdown",
   "metadata": {},
   "source": [
    "## Masuring the Bias and Variance\n",
    "Let's start with measuring the bias.  Recall that the bias at a point $x$ is\n",
    "$$\n",
    "\\mathrm{Bias}(x) = f(x) - \\mathbb{E}[\\hat f(x)]\n",
    "$$\n",
    "over learned models $\\hat f$ trained on independent random instances of the data.  Thus to measure this, we need only train many instances of the model on independent random synthetic data, and see how they behave.\n",
    "\n",
    "Similarly, the variance at a point is given by\n",
    "$$\n",
    "\\mathrm{Var}(x) = \\mathrm{Var}[\\hat f(x)]\n",
    "$$\n",
    "And is just the amount that the predictions themselves fluctuate,\n",
    "\n",
    "### Question 1\n",
    "> For the synthetic data above, train $1000$ independent decision trees on $1000$ data points.  Compute the square of the bias and variance for every point in ```np.arange(-1.4, 1.4, 0.01)``` and plot them.  Things will be much clearer if you also plot the noise at the constant value of $0.25$.\n",
    ">\n",
    "> Do this for every choice of ```max_depth``` in $\\{1,2,4,8,16,32\\}$  What do you observe?  What happens to the variance once the model begins to overfit?  Are the bias and variance constant over the entire domain?  Feel free to use ```sklearn``` for training your trees."
   ]
  },
  {
   "cell_type": "code",
   "execution_count": null,
   "metadata": {},
   "outputs": [],
   "source": [
    "### Answer 1 ###\n",
    "\n",
    "# Code Answer 1 here."
   ]
  },
  {
   "cell_type": "markdown",
   "metadata": {},
   "source": [
    "### Answer 1\n",
    "\n",
    "(*Write comments here.*)"
   ]
  },
  {
   "cell_type": "markdown",
   "metadata": {},
   "source": [
    "### Question 2\n",
    "Recall that another method we used to control overfitting was a minimum impurity needed to split a node.  Run the same experiment as above with the minimum impurites ```min_impurity_split``` in the range $\\{0.05,0.10,0.15,0.20,0.25,0.30,0.35\\}$.  Visually the overfitting was more uniformly spread with this method of regularization.  Does the bias variance decomposition support  this conclusion?"
   ]
  },
  {
   "cell_type": "code",
   "execution_count": null,
   "metadata": {},
   "outputs": [],
   "source": [
    "### Answer 2 ###\n",
    "\n",
    "# Code Answer 2 here."
   ]
  },
  {
   "cell_type": "markdown",
   "metadata": {},
   "source": [
    "### Answer 2\n",
    "\n",
    "(*Write comments here.*)"
   ]
  },
  {
   "cell_type": "markdown",
   "metadata": {},
   "source": [
    "## Examining the decomposition\n",
    "\n",
    "As a final check, let's remember where this decomposition came from we started from the mean squared error over a future data point:\n",
    "$$\n",
    "\\mathbb{E}[(y-\\hat f(\\vec x))^2] = \\mathrm{Bias}(\\vec x)^2 + \\mathrm{Var}(\\hat f(\\vec x)) + \\mathrm{Noise}(\\vec x)\n",
    "$$\n",
    "So all of our errors are built from three contributions: the systematic error in the bias, the variance of the model learned, and the inherent noise.  \n",
    "\n",
    "These two sides can be approximated in two different ways.  The MSE of a learned model can be computed by training a decision tree on a dataset, and then testing its predictions on a new dataset.  Notice this is the same as averaging the left hand side over random datapoints $\\vec x$.  The right hand side can be estimated as we do above, but where we take the average bias and variance at points of another new dataset.\n",
    "\n",
    "### Question 3\n",
    "> Do this test.  Train a single decision tree (with ```min_impurity_split = 0.25``` on one $1000$ point dataset.  Test the MSE on another $1000$ point dataset.  Average this $1000$ times.  This approximates the left hand side.  Then sample another $1000$ point dataset and average the bias and variance (as computed using $1000$ different $1000$ datapoint datasets) to get the right hand side (not forgetting at add the noise).  If all goes well, these two numbers should be comfortably within $0.01$ of eachother."
   ]
  },
  {
   "cell_type": "code",
   "execution_count": null,
   "metadata": {},
   "outputs": [],
   "source": [
    "### Answer 3 ###\n",
    "\n",
    "# Code Answer 3 here."
   ]
  },
  {
   "cell_type": "markdown",
   "metadata": {},
   "source": [
    "## ExtraTrees\n",
    "> Now we'll turn to a quick examination of the behavior of ExtraTrees on this same dataset.  Produce the same types of graphs as in problems one and two, but this time using the [ExtraTreesRegressor](http://scikit-learn.org/stable/modules/generated/sklearn.ensemble.ExtraTreesRegressor.html).  Use the impurity split cutoff (```min_impurity_split```) of $0.2$.  Try it with the number of trees being $\\{1,2,4,8,16,32\\}$. What do you see?  If you compare a single ExtraTree with a single Decision tree with the same impurity cutoff, how to the biases and variances compare?  How about after you have averaged many such trees?  Does this agree with the storyline we saw in class:\n",
    "> * Bias should increase, or stay about the same compared to a non-random decision tree\n",
    "> * The bias should remain unchanged as you average more trees\n",
    "> * Variance of a single tree should increase compared to a non-random decision tree\n",
    "> * The variance should come in two parts, one that vanishes with averaging many trees, and one that does not\n",
    "> * The variance after averaging 32 trees should be less than the variance of a single non-randomized decision tree.\n",
    ">\n",
    "> Finally, just train a single decision tree with ```min_impurity_split = 0.25``` and a 32 tree ensemble of ExtraTrees with the same ```min_impurity_split = 0.25``` on some training set of $1000$ points.  Do a good-ol' cross validation of both against a validation set of $1000$ more points.  How large is the improvement?  To make sure the measurement of the gain is accuracte, report the averages over $1000$ repeated experiments."
   ]
  },
  {
   "cell_type": "code",
   "execution_count": null,
   "metadata": {},
   "outputs": [],
   "source": [
    "### Answer 4 ###\n",
    "\n",
    "# Code Answer 4 here."
   ]
  },
  {
   "cell_type": "markdown",
   "metadata": {},
   "source": [
    "### Answer 4\n",
    "\n",
    "(*Write comments  here.*)"
   ]
  },
  {
   "cell_type": "markdown",
   "metadata": {},
   "source": [
    "## Final Project Dataset\n",
    "### Question 5\n",
    "Now we turn to the final project dataset. It is up to you what you want to try, but experiment with decision trees and ExtraTrees to see what works.  Do you see significant improvement of one versus the other?  You should probably experiment on a subset of the data before trying to work with the entire set, as it is best to move quickly when trying things out, and only dig deeper once a method seems promising."
   ]
  },
  {
   "cell_type": "code",
   "execution_count": null,
   "metadata": {},
   "outputs": [],
   "source": [
    "### Answer 5 ###\n",
    "\n",
    "# Code Answer 5 here."
   ]
  }
 ],
 "metadata": {
  "kernelspec": {
   "display_name": "conda_python3",
   "language": "python",
   "name": "conda_python3"
  },
  "language_info": {
   "codemirror_mode": {
    "name": "ipython",
    "version": 3
   },
   "file_extension": ".py",
   "mimetype": "text/x-python",
   "name": "python",
   "nbconvert_exporter": "python",
   "pygments_lexer": "ipython3",
   "version": "3.6.13"
  }
 },
 "nbformat": 4,
 "nbformat_minor": 2
}
